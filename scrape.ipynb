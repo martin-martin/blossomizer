{
 "cells": [
  {
   "cell_type": "code",
   "execution_count": 3,
   "metadata": {
    "collapsed": false
   },
   "outputs": [
    {
     "name": "stdout",
     "output_type": "stream",
     "text": [
      "Words That Are Both Nouns And Verbs Vocabulary Word List - EnchantedLearning.com\n"
     ]
    }
   ],
   "source": [
    "# thanks: https://www.youtube.com/watch?v=aIPqt-OdmS0&index=1&list=PLQVvvaa0QuDfV1MIRBOcqClP6VZXsvyZS\n",
    "import bs4 as bs\n",
    "import urllib.request\n",
    "\n",
    "sauce = urllib.request.urlopen(\"http://www.enchantedlearning.com/wordlist/nounandverb.shtml\").read()\n",
    "soup = bs.BeautifulSoup(sauce, \"lxml\")\n",
    "print(soup.title.text)"
   ]
  },
  {
   "cell_type": "code",
   "execution_count": 28,
   "metadata": {
    "collapsed": false
   },
   "outputs": [],
   "source": [
    "all_tables = soup.find_all('table')\n",
    "# extracting the tables that hold the word information\n",
    "content_tables = all_tables[4:29]"
   ]
  },
  {
   "cell_type": "code",
   "execution_count": 41,
   "metadata": {
    "collapsed": false
   },
   "outputs": [
    {
     "name": "stdout",
     "output_type": "stream",
     "text": [
      "<class 'list'>\n"
     ]
    }
   ],
   "source": [
    "# empty list to hold the actual words\n",
    "noun_verbs = []\n",
    "# from each table (one per letter)\n",
    "for table in content_tables:\n",
    "    #print(\"*******************count_\")\n",
    "    # fetch all elements that contain words\n",
    "    for cell in table.find_all(\"font\"):\n",
    "        # split the text on carriage returns\n",
    "        line = cell.text.split(\"\\n\")\n",
    "        # if the item is a word\n",
    "        for word in line:\n",
    "            if not word == \"\":\n",
    "                # add it to the word list\n",
    "                noun_verbs.append(word)\n",
    "        #print(line)\n",
    "    #print(\"----------------------\")\n",
    "\n",
    "#print(noun_verbs)"
   ]
  },
  {
   "cell_type": "code",
   "execution_count": 43,
   "metadata": {
    "collapsed": false
   },
   "outputs": [],
   "source": [
    "# save the output to a file\n",
    "import json\n",
    "with open(\"nounverbs.json\", \"w\") as outfile:\n",
    "    json.dump(noun_verbs, outfile)"
   ]
  }
 ],
 "metadata": {
  "anaconda-cloud": {},
  "kernelspec": {
   "display_name": "Python [conda env:car]",
   "language": "python",
   "name": "conda-env-car-py"
  },
  "language_info": {
   "codemirror_mode": {
    "name": "ipython",
    "version": 3
   },
   "file_extension": ".py",
   "mimetype": "text/x-python",
   "name": "python",
   "nbconvert_exporter": "python",
   "pygments_lexer": "ipython3",
   "version": "3.5.2"
  }
 },
 "nbformat": 4,
 "nbformat_minor": 1
}
